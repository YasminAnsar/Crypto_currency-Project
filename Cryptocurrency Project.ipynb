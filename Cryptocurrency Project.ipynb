{
 "cells": [
  {
   "cell_type": "markdown",
   "id": "b9d01fa3",
   "metadata": {},
   "source": [
    "# Crypto Currency Project"
   ]
  },
  {
   "cell_type": "markdown",
   "id": "328547af",
   "metadata": {},
   "source": [
    "### Installing the modules"
   ]
  },
  {
   "cell_type": "code",
   "execution_count": 447,
   "id": "cc3fd039",
   "metadata": {},
   "outputs": [
    {
     "name": "stdout",
     "output_type": "stream",
     "text": [
      "Requirement already satisfied: yfinance in c:\\users\\hewlett - packard\\anaconda3\\lib\\site-packages (0.2.3)\n",
      "Requirement already satisfied: numpy>=1.16.5 in c:\\users\\hewlett - packard\\anaconda3\\lib\\site-packages (from yfinance) (1.21.5)\n",
      "Requirement already satisfied: cryptography>=3.3.2 in c:\\users\\hewlett - packard\\anaconda3\\lib\\site-packages (from yfinance) (3.4.8)\n",
      "Requirement already satisfied: pandas>=1.3.0 in c:\\users\\hewlett - packard\\anaconda3\\lib\\site-packages (from yfinance) (1.4.2)\n",
      "Requirement already satisfied: requests>=2.26 in c:\\users\\hewlett - packard\\anaconda3\\lib\\site-packages (from yfinance) (2.27.1)\n",
      "Requirement already satisfied: html5lib>=1.1 in c:\\users\\hewlett - packard\\anaconda3\\lib\\site-packages (from yfinance) (1.1)\n",
      "Requirement already satisfied: pytz>=2022.5 in c:\\users\\hewlett - packard\\anaconda3\\lib\\site-packages (from yfinance) (2022.7)\n",
      "Requirement already satisfied: multitasking>=0.0.7 in c:\\users\\hewlett - packard\\anaconda3\\lib\\site-packages (from yfinance) (0.0.11)\n",
      "Requirement already satisfied: appdirs>=1.4.4 in c:\\users\\hewlett - packard\\anaconda3\\lib\\site-packages (from yfinance) (1.4.4)\n",
      "Requirement already satisfied: beautifulsoup4>=4.11.1 in c:\\users\\hewlett - packard\\anaconda3\\lib\\site-packages (from yfinance) (4.11.1)\n",
      "Requirement already satisfied: frozendict>=2.3.4 in c:\\users\\hewlett - packard\\anaconda3\\lib\\site-packages (from yfinance) (2.3.4)\n",
      "Requirement already satisfied: lxml>=4.9.1 in c:\\users\\hewlett - packard\\anaconda3\\lib\\site-packages (from yfinance) (4.9.2)\n",
      "Requirement already satisfied: soupsieve>1.2 in c:\\users\\hewlett - packard\\anaconda3\\lib\\site-packages (from beautifulsoup4>=4.11.1->yfinance) (2.3.1)\n",
      "Requirement already satisfied: cffi>=1.12 in c:\\users\\hewlett - packard\\anaconda3\\lib\\site-packages (from cryptography>=3.3.2->yfinance) (1.15.0)\n",
      "Requirement already satisfied: pycparser in c:\\users\\hewlett - packard\\anaconda3\\lib\\site-packages (from cffi>=1.12->cryptography>=3.3.2->yfinance) (2.21)\n",
      "Requirement already satisfied: six>=1.9 in c:\\users\\hewlett - packard\\anaconda3\\lib\\site-packages (from html5lib>=1.1->yfinance) (1.16.0)\n",
      "Requirement already satisfied: webencodings in c:\\users\\hewlett - packard\\anaconda3\\lib\\site-packages (from html5lib>=1.1->yfinance) (0.5.1)\n",
      "Requirement already satisfied: python-dateutil>=2.8.1 in c:\\users\\hewlett - packard\\anaconda3\\lib\\site-packages (from pandas>=1.3.0->yfinance) (2.8.2)\n",
      "Requirement already satisfied: charset-normalizer~=2.0.0 in c:\\users\\hewlett - packard\\anaconda3\\lib\\site-packages (from requests>=2.26->yfinance) (2.0.4)\n",
      "Requirement already satisfied: idna<4,>=2.5 in c:\\users\\hewlett - packard\\anaconda3\\lib\\site-packages (from requests>=2.26->yfinance) (3.3)\n",
      "Requirement already satisfied: certifi>=2017.4.17 in c:\\users\\hewlett - packard\\anaconda3\\lib\\site-packages (from requests>=2.26->yfinance) (2021.10.8)\n",
      "Requirement already satisfied: urllib3<1.27,>=1.21.1 in c:\\users\\hewlett - packard\\anaconda3\\lib\\site-packages (from requests>=2.26->yfinance) (1.26.9)\n",
      "Note: you may need to restart the kernel to use updated packages.\n"
     ]
    }
   ],
   "source": [
    "pip install yfinance"
   ]
  },
  {
   "cell_type": "code",
   "execution_count": 448,
   "id": "f47cb56b",
   "metadata": {},
   "outputs": [
    {
     "name": "stdout",
     "output_type": "stream",
     "text": [
      "Requirement already satisfied: datetime in c:\\users\\hewlett - packard\\anaconda3\\lib\\site-packages (4.8)\n",
      "Requirement already satisfied: pytz in c:\\users\\hewlett - packard\\anaconda3\\lib\\site-packages (from datetime) (2022.7)\n",
      "Requirement already satisfied: zope.interface in c:\\users\\hewlett - packard\\anaconda3\\lib\\site-packages (from datetime) (5.4.0)\n",
      "Requirement already satisfied: setuptools in c:\\users\\hewlett - packard\\anaconda3\\lib\\site-packages (from zope.interface->datetime) (61.2.0)\n",
      "Note: you may need to restart the kernel to use updated packages.\n"
     ]
    }
   ],
   "source": [
    "pip install datetime"
   ]
  },
  {
   "cell_type": "code",
   "execution_count": 449,
   "id": "b8c44f0d",
   "metadata": {},
   "outputs": [
    {
     "name": "stdout",
     "output_type": "stream",
     "text": [
      "Requirement already satisfied: pandas_datareader in c:\\users\\hewlett - packard\\anaconda3\\lib\\site-packages (0.10.0)\n",
      "Requirement already satisfied: pandas>=0.23 in c:\\users\\hewlett - packard\\anaconda3\\lib\\site-packages (from pandas_datareader) (1.4.2)\n",
      "Requirement already satisfied: lxml in c:\\users\\hewlett - packard\\anaconda3\\lib\\site-packages (from pandas_datareader) (4.9.2)\n",
      "Requirement already satisfied: requests>=2.19.0 in c:\\users\\hewlett - packard\\anaconda3\\lib\\site-packages (from pandas_datareader) (2.27.1)\n",
      "Requirement already satisfied: numpy>=1.18.5 in c:\\users\\hewlett - packard\\anaconda3\\lib\\site-packages (from pandas>=0.23->pandas_datareader) (1.21.5)\n",
      "Requirement already satisfied: pytz>=2020.1 in c:\\users\\hewlett - packard\\anaconda3\\lib\\site-packages (from pandas>=0.23->pandas_datareader) (2022.7)\n",
      "Requirement already satisfied: python-dateutil>=2.8.1 in c:\\users\\hewlett - packard\\anaconda3\\lib\\site-packages (from pandas>=0.23->pandas_datareader) (2.8.2)\n",
      "Requirement already satisfied: six>=1.5 in c:\\users\\hewlett - packard\\anaconda3\\lib\\site-packages (from python-dateutil>=2.8.1->pandas>=0.23->pandas_datareader) (1.16.0)\n",
      "Requirement already satisfied: charset-normalizer~=2.0.0 in c:\\users\\hewlett - packard\\anaconda3\\lib\\site-packages (from requests>=2.19.0->pandas_datareader) (2.0.4)\n",
      "Requirement already satisfied: certifi>=2017.4.17 in c:\\users\\hewlett - packard\\anaconda3\\lib\\site-packages (from requests>=2.19.0->pandas_datareader) (2021.10.8)\n",
      "Requirement already satisfied: idna<4,>=2.5 in c:\\users\\hewlett - packard\\anaconda3\\lib\\site-packages (from requests>=2.19.0->pandas_datareader) (3.3)\n",
      "Requirement already satisfied: urllib3<1.27,>=1.21.1 in c:\\users\\hewlett - packard\\anaconda3\\lib\\site-packages (from requests>=2.19.0->pandas_datareader) (1.26.9)\n",
      "Note: you may need to restart the kernel to use updated packages.\n"
     ]
    }
   ],
   "source": [
    "pip install pandas_datareader"
   ]
  },
  {
   "cell_type": "markdown",
   "id": "fe2e37aa",
   "metadata": {},
   "source": [
    "### Importing the modules"
   ]
  },
  {
   "cell_type": "code",
   "execution_count": 450,
   "id": "f32f1bf9",
   "metadata": {},
   "outputs": [],
   "source": [
    "import yfinance as yf\n",
    "import datetime as dt\n",
    "import pandas as pd\n",
    "import pandas_datareader as web\n",
    "import numpy as np\n",
    "import matplotlib.pyplot as plt\n"
   ]
  },
  {
   "cell_type": "markdown",
   "id": "feb5e3e9",
   "metadata": {},
   "source": [
    "### Code for getting data for one coin\n",
    "start = dt.datetime(2021,1,1)\n",
    "\n",
    "end = dt.datetime.now()\n",
    "\n",
    "cc ='BTC-USD'\n",
    "\n",
    "eth = yf.download(cc, start, end)\n",
    "\n",
    "eth"
   ]
  },
  {
   "cell_type": "markdown",
   "id": "bd8dfed5",
   "metadata": {},
   "source": [
    "### Code for getting data of five coins and storing them into seprate csvs"
   ]
  },
  {
   "cell_type": "code",
   "execution_count": 451,
   "id": "7b7a4b3f",
   "metadata": {},
   "outputs": [
    {
     "name": "stdout",
     "output_type": "stream",
     "text": [
      "[*********************100%***********************]  1 of 1 completed\n",
      "[*********************100%***********************]  1 of 1 completed\n",
      "[*********************100%***********************]  1 of 1 completed\n",
      "[*********************100%***********************]  1 of 1 completed\n",
      "[*********************100%***********************]  1 of 1 completed\n"
     ]
    }
   ],
   "source": [
    "currency = 'USD'\n",
    "metric = 'Close'\n",
    "start = dt.datetime(2022,1,1)\n",
    "end = dt.datetime.now()\n",
    "\n",
    "coins =['BTC','ETH','XMR','DASH','LTC']\n",
    "\n",
    "\n",
    "#coins =['BTC-USD','ETH-USD','XMR-USD','DASH-USD','LTC-USD']\n",
    "for coin in coins:\n",
    "    data = yf.download(f\"{coin}-{currency}\", start,end)\n",
    "    data.to_csv('{}.csv'.format(coin))"
   ]
  },
  {
   "cell_type": "markdown",
   "id": "95730243",
   "metadata": {},
   "source": [
    "### Reading the csv files for each coin in to a dataframe and taking the only Close value column "
   ]
  },
  {
   "cell_type": "code",
   "execution_count": 452,
   "id": "273e7b37",
   "metadata": {},
   "outputs": [],
   "source": [
    "BTC = pd.read_csv('BTC-USD.csv', parse_dates = True)   #now index column will be Date column\n"
   ]
  },
  {
   "cell_type": "code",
   "execution_count": 453,
   "id": "9d952b37",
   "metadata": {},
   "outputs": [
    {
     "data": {
      "text/html": [
       "<div>\n",
       "<style scoped>\n",
       "    .dataframe tbody tr th:only-of-type {\n",
       "        vertical-align: middle;\n",
       "    }\n",
       "\n",
       "    .dataframe tbody tr th {\n",
       "        vertical-align: top;\n",
       "    }\n",
       "\n",
       "    .dataframe thead th {\n",
       "        text-align: right;\n",
       "    }\n",
       "</style>\n",
       "<table border=\"1\" class=\"dataframe\">\n",
       "  <thead>\n",
       "    <tr style=\"text-align: right;\">\n",
       "      <th></th>\n",
       "      <th>Date</th>\n",
       "      <th>Open</th>\n",
       "      <th>High</th>\n",
       "      <th>Low</th>\n",
       "      <th>Close</th>\n",
       "      <th>Adj Close</th>\n",
       "      <th>Volume</th>\n",
       "    </tr>\n",
       "  </thead>\n",
       "  <tbody>\n",
       "    <tr>\n",
       "      <th>0</th>\n",
       "      <td>2022-01-01</td>\n",
       "      <td>46311.746094</td>\n",
       "      <td>47827.312500</td>\n",
       "      <td>46288.484375</td>\n",
       "      <td>47686.812500</td>\n",
       "      <td>47686.812500</td>\n",
       "      <td>24582667004</td>\n",
       "    </tr>\n",
       "    <tr>\n",
       "      <th>1</th>\n",
       "      <td>2022-01-02</td>\n",
       "      <td>47680.925781</td>\n",
       "      <td>47881.406250</td>\n",
       "      <td>46856.937500</td>\n",
       "      <td>47345.218750</td>\n",
       "      <td>47345.218750</td>\n",
       "      <td>27951569547</td>\n",
       "    </tr>\n",
       "    <tr>\n",
       "      <th>2</th>\n",
       "      <td>2022-01-03</td>\n",
       "      <td>47343.542969</td>\n",
       "      <td>47510.726562</td>\n",
       "      <td>45835.964844</td>\n",
       "      <td>46458.117188</td>\n",
       "      <td>46458.117188</td>\n",
       "      <td>33071628362</td>\n",
       "    </tr>\n",
       "    <tr>\n",
       "      <th>3</th>\n",
       "      <td>2022-01-04</td>\n",
       "      <td>46458.851562</td>\n",
       "      <td>47406.546875</td>\n",
       "      <td>45752.464844</td>\n",
       "      <td>45897.574219</td>\n",
       "      <td>45897.574219</td>\n",
       "      <td>42494677905</td>\n",
       "    </tr>\n",
       "    <tr>\n",
       "      <th>4</th>\n",
       "      <td>2022-01-05</td>\n",
       "      <td>45899.359375</td>\n",
       "      <td>46929.046875</td>\n",
       "      <td>42798.222656</td>\n",
       "      <td>43569.003906</td>\n",
       "      <td>43569.003906</td>\n",
       "      <td>36851084859</td>\n",
       "    </tr>\n",
       "  </tbody>\n",
       "</table>\n",
       "</div>"
      ],
      "text/plain": [
       "         Date          Open          High           Low         Close  \\\n",
       "0  2022-01-01  46311.746094  47827.312500  46288.484375  47686.812500   \n",
       "1  2022-01-02  47680.925781  47881.406250  46856.937500  47345.218750   \n",
       "2  2022-01-03  47343.542969  47510.726562  45835.964844  46458.117188   \n",
       "3  2022-01-04  46458.851562  47406.546875  45752.464844  45897.574219   \n",
       "4  2022-01-05  45899.359375  46929.046875  42798.222656  43569.003906   \n",
       "\n",
       "      Adj Close       Volume  \n",
       "0  47686.812500  24582667004  \n",
       "1  47345.218750  27951569547  \n",
       "2  46458.117188  33071628362  \n",
       "3  45897.574219  42494677905  \n",
       "4  43569.003906  36851084859  "
      ]
     },
     "execution_count": 453,
     "metadata": {},
     "output_type": "execute_result"
    }
   ],
   "source": [
    "BTC.head()"
   ]
  },
  {
   "cell_type": "code",
   "execution_count": 454,
   "id": "46ac974d",
   "metadata": {},
   "outputs": [
    {
     "data": {
      "text/html": [
       "<div>\n",
       "<style scoped>\n",
       "    .dataframe tbody tr th:only-of-type {\n",
       "        vertical-align: middle;\n",
       "    }\n",
       "\n",
       "    .dataframe tbody tr th {\n",
       "        vertical-align: top;\n",
       "    }\n",
       "\n",
       "    .dataframe thead th {\n",
       "        text-align: right;\n",
       "    }\n",
       "</style>\n",
       "<table border=\"1\" class=\"dataframe\">\n",
       "  <thead>\n",
       "    <tr style=\"text-align: right;\">\n",
       "      <th></th>\n",
       "      <th>Close</th>\n",
       "    </tr>\n",
       "  </thead>\n",
       "  <tbody>\n",
       "    <tr>\n",
       "      <th>0</th>\n",
       "      <td>47686.812500</td>\n",
       "    </tr>\n",
       "    <tr>\n",
       "      <th>1</th>\n",
       "      <td>47345.218750</td>\n",
       "    </tr>\n",
       "    <tr>\n",
       "      <th>2</th>\n",
       "      <td>46458.117188</td>\n",
       "    </tr>\n",
       "    <tr>\n",
       "      <th>3</th>\n",
       "      <td>45897.574219</td>\n",
       "    </tr>\n",
       "  </tbody>\n",
       "</table>\n",
       "</div>"
      ],
      "text/plain": [
       "          Close\n",
       "0  47686.812500\n",
       "1  47345.218750\n",
       "2  46458.117188\n",
       "3  45897.574219"
      ]
     },
     "execution_count": 454,
     "metadata": {},
     "output_type": "execute_result"
    }
   ],
   "source": [
    "BTC_P = BTC[[metric]]\n",
    "BTC_P.head(4)"
   ]
  },
  {
   "cell_type": "code",
   "execution_count": 455,
   "id": "61268a73",
   "metadata": {},
   "outputs": [],
   "source": [
    "Date = BTC[[\"Date\"]]"
   ]
  },
  {
   "cell_type": "code",
   "execution_count": 456,
   "id": "62d53729",
   "metadata": {},
   "outputs": [
    {
     "data": {
      "text/html": [
       "<div>\n",
       "<style scoped>\n",
       "    .dataframe tbody tr th:only-of-type {\n",
       "        vertical-align: middle;\n",
       "    }\n",
       "\n",
       "    .dataframe tbody tr th {\n",
       "        vertical-align: top;\n",
       "    }\n",
       "\n",
       "    .dataframe thead th {\n",
       "        text-align: right;\n",
       "    }\n",
       "</style>\n",
       "<table border=\"1\" class=\"dataframe\">\n",
       "  <thead>\n",
       "    <tr style=\"text-align: right;\">\n",
       "      <th></th>\n",
       "      <th>Date</th>\n",
       "    </tr>\n",
       "  </thead>\n",
       "  <tbody>\n",
       "    <tr>\n",
       "      <th>0</th>\n",
       "      <td>2022-01-01</td>\n",
       "    </tr>\n",
       "    <tr>\n",
       "      <th>1</th>\n",
       "      <td>2022-01-02</td>\n",
       "    </tr>\n",
       "    <tr>\n",
       "      <th>2</th>\n",
       "      <td>2022-01-03</td>\n",
       "    </tr>\n",
       "    <tr>\n",
       "      <th>3</th>\n",
       "      <td>2022-01-04</td>\n",
       "    </tr>\n",
       "  </tbody>\n",
       "</table>\n",
       "</div>"
      ],
      "text/plain": [
       "         Date\n",
       "0  2022-01-01\n",
       "1  2022-01-02\n",
       "2  2022-01-03\n",
       "3  2022-01-04"
      ]
     },
     "execution_count": 456,
     "metadata": {},
     "output_type": "execute_result"
    }
   ],
   "source": [
    "Date.head(4)"
   ]
  },
  {
   "cell_type": "code",
   "execution_count": 457,
   "id": "26c0ad42",
   "metadata": {},
   "outputs": [
    {
     "data": {
      "text/html": [
       "<div>\n",
       "<style scoped>\n",
       "    .dataframe tbody tr th:only-of-type {\n",
       "        vertical-align: middle;\n",
       "    }\n",
       "\n",
       "    .dataframe tbody tr th {\n",
       "        vertical-align: top;\n",
       "    }\n",
       "\n",
       "    .dataframe thead th {\n",
       "        text-align: right;\n",
       "    }\n",
       "</style>\n",
       "<table border=\"1\" class=\"dataframe\">\n",
       "  <thead>\n",
       "    <tr style=\"text-align: right;\">\n",
       "      <th></th>\n",
       "      <th>Close</th>\n",
       "    </tr>\n",
       "  </thead>\n",
       "  <tbody>\n",
       "    <tr>\n",
       "      <th>0</th>\n",
       "      <td>47686.812500</td>\n",
       "    </tr>\n",
       "    <tr>\n",
       "      <th>1</th>\n",
       "      <td>47345.218750</td>\n",
       "    </tr>\n",
       "    <tr>\n",
       "      <th>2</th>\n",
       "      <td>46458.117188</td>\n",
       "    </tr>\n",
       "    <tr>\n",
       "      <th>3</th>\n",
       "      <td>45897.574219</td>\n",
       "    </tr>\n",
       "  </tbody>\n",
       "</table>\n",
       "</div>"
      ],
      "text/plain": [
       "          Close\n",
       "0  47686.812500\n",
       "1  47345.218750\n",
       "2  46458.117188\n",
       "3  45897.574219"
      ]
     },
     "execution_count": 457,
     "metadata": {},
     "output_type": "execute_result"
    }
   ],
   "source": [
    "BTC_P.head(4)"
   ]
  },
  {
   "cell_type": "code",
   "execution_count": 458,
   "id": "1fe8740f",
   "metadata": {},
   "outputs": [],
   "source": [
    "ETH = pd.read_csv('ETH-USD.csv', parse_dates = True) "
   ]
  },
  {
   "cell_type": "code",
   "execution_count": 459,
   "id": "83274929",
   "metadata": {},
   "outputs": [
    {
     "data": {
      "text/html": [
       "<div>\n",
       "<style scoped>\n",
       "    .dataframe tbody tr th:only-of-type {\n",
       "        vertical-align: middle;\n",
       "    }\n",
       "\n",
       "    .dataframe tbody tr th {\n",
       "        vertical-align: top;\n",
       "    }\n",
       "\n",
       "    .dataframe thead th {\n",
       "        text-align: right;\n",
       "    }\n",
       "</style>\n",
       "<table border=\"1\" class=\"dataframe\">\n",
       "  <thead>\n",
       "    <tr style=\"text-align: right;\">\n",
       "      <th></th>\n",
       "      <th>Date</th>\n",
       "      <th>Open</th>\n",
       "      <th>High</th>\n",
       "      <th>Low</th>\n",
       "      <th>Close</th>\n",
       "      <th>Adj Close</th>\n",
       "      <th>Volume</th>\n",
       "    </tr>\n",
       "  </thead>\n",
       "  <tbody>\n",
       "    <tr>\n",
       "      <th>0</th>\n",
       "      <td>2022-01-01</td>\n",
       "      <td>3683.047119</td>\n",
       "      <td>3769.917969</td>\n",
       "      <td>3682.286621</td>\n",
       "      <td>3769.697021</td>\n",
       "      <td>3769.697021</td>\n",
       "      <td>9776191466</td>\n",
       "    </tr>\n",
       "    <tr>\n",
       "      <th>1</th>\n",
       "      <td>2022-01-02</td>\n",
       "      <td>3769.298340</td>\n",
       "      <td>3836.161865</td>\n",
       "      <td>3727.357422</td>\n",
       "      <td>3829.564941</td>\n",
       "      <td>3829.564941</td>\n",
       "      <td>9881471548</td>\n",
       "    </tr>\n",
       "    <tr>\n",
       "      <th>2</th>\n",
       "      <td>2022-01-03</td>\n",
       "      <td>3829.535645</td>\n",
       "      <td>3836.198730</td>\n",
       "      <td>3698.047607</td>\n",
       "      <td>3761.380371</td>\n",
       "      <td>3761.380371</td>\n",
       "      <td>12080777893</td>\n",
       "    </tr>\n",
       "    <tr>\n",
       "      <th>3</th>\n",
       "      <td>2022-01-04</td>\n",
       "      <td>3761.361572</td>\n",
       "      <td>3876.785156</td>\n",
       "      <td>3723.349854</td>\n",
       "      <td>3794.056641</td>\n",
       "      <td>3794.056641</td>\n",
       "      <td>14030925983</td>\n",
       "    </tr>\n",
       "  </tbody>\n",
       "</table>\n",
       "</div>"
      ],
      "text/plain": [
       "         Date         Open         High          Low        Close  \\\n",
       "0  2022-01-01  3683.047119  3769.917969  3682.286621  3769.697021   \n",
       "1  2022-01-02  3769.298340  3836.161865  3727.357422  3829.564941   \n",
       "2  2022-01-03  3829.535645  3836.198730  3698.047607  3761.380371   \n",
       "3  2022-01-04  3761.361572  3876.785156  3723.349854  3794.056641   \n",
       "\n",
       "     Adj Close       Volume  \n",
       "0  3769.697021   9776191466  \n",
       "1  3829.564941   9881471548  \n",
       "2  3761.380371  12080777893  \n",
       "3  3794.056641  14030925983  "
      ]
     },
     "execution_count": 459,
     "metadata": {},
     "output_type": "execute_result"
    }
   ],
   "source": [
    "ETH.head(4)"
   ]
  },
  {
   "cell_type": "code",
   "execution_count": 460,
   "id": "6c07b652",
   "metadata": {},
   "outputs": [],
   "source": [
    "ETH_P = ETH[[metric]]"
   ]
  },
  {
   "cell_type": "code",
   "execution_count": 461,
   "id": "1f9581a6",
   "metadata": {},
   "outputs": [
    {
     "data": {
      "text/html": [
       "<div>\n",
       "<style scoped>\n",
       "    .dataframe tbody tr th:only-of-type {\n",
       "        vertical-align: middle;\n",
       "    }\n",
       "\n",
       "    .dataframe tbody tr th {\n",
       "        vertical-align: top;\n",
       "    }\n",
       "\n",
       "    .dataframe thead th {\n",
       "        text-align: right;\n",
       "    }\n",
       "</style>\n",
       "<table border=\"1\" class=\"dataframe\">\n",
       "  <thead>\n",
       "    <tr style=\"text-align: right;\">\n",
       "      <th></th>\n",
       "      <th>Close</th>\n",
       "    </tr>\n",
       "  </thead>\n",
       "  <tbody>\n",
       "    <tr>\n",
       "      <th>0</th>\n",
       "      <td>3769.697021</td>\n",
       "    </tr>\n",
       "    <tr>\n",
       "      <th>1</th>\n",
       "      <td>3829.564941</td>\n",
       "    </tr>\n",
       "    <tr>\n",
       "      <th>2</th>\n",
       "      <td>3761.380371</td>\n",
       "    </tr>\n",
       "    <tr>\n",
       "      <th>3</th>\n",
       "      <td>3794.056641</td>\n",
       "    </tr>\n",
       "  </tbody>\n",
       "</table>\n",
       "</div>"
      ],
      "text/plain": [
       "         Close\n",
       "0  3769.697021\n",
       "1  3829.564941\n",
       "2  3761.380371\n",
       "3  3794.056641"
      ]
     },
     "execution_count": 461,
     "metadata": {},
     "output_type": "execute_result"
    }
   ],
   "source": [
    "ETH_P.head(4)"
   ]
  },
  {
   "cell_type": "code",
   "execution_count": 462,
   "id": "25bfbbcb",
   "metadata": {},
   "outputs": [],
   "source": [
    "XMR = pd.read_csv('XMR-USD.csv', parse_dates = True) "
   ]
  },
  {
   "cell_type": "code",
   "execution_count": 463,
   "id": "d0b457d6",
   "metadata": {},
   "outputs": [
    {
     "data": {
      "text/html": [
       "<div>\n",
       "<style scoped>\n",
       "    .dataframe tbody tr th:only-of-type {\n",
       "        vertical-align: middle;\n",
       "    }\n",
       "\n",
       "    .dataframe tbody tr th {\n",
       "        vertical-align: top;\n",
       "    }\n",
       "\n",
       "    .dataframe thead th {\n",
       "        text-align: right;\n",
       "    }\n",
       "</style>\n",
       "<table border=\"1\" class=\"dataframe\">\n",
       "  <thead>\n",
       "    <tr style=\"text-align: right;\">\n",
       "      <th></th>\n",
       "      <th>Date</th>\n",
       "      <th>Open</th>\n",
       "      <th>High</th>\n",
       "      <th>Low</th>\n",
       "      <th>Close</th>\n",
       "      <th>Adj Close</th>\n",
       "      <th>Volume</th>\n",
       "    </tr>\n",
       "  </thead>\n",
       "  <tbody>\n",
       "    <tr>\n",
       "      <th>0</th>\n",
       "      <td>2022-01-01</td>\n",
       "      <td>228.847839</td>\n",
       "      <td>251.870102</td>\n",
       "      <td>228.768646</td>\n",
       "      <td>250.206177</td>\n",
       "      <td>250.206177</td>\n",
       "      <td>277123156</td>\n",
       "    </tr>\n",
       "    <tr>\n",
       "      <th>1</th>\n",
       "      <td>2022-01-02</td>\n",
       "      <td>250.174347</td>\n",
       "      <td>250.693329</td>\n",
       "      <td>236.701248</td>\n",
       "      <td>239.371704</td>\n",
       "      <td>239.371704</td>\n",
       "      <td>205086716</td>\n",
       "    </tr>\n",
       "    <tr>\n",
       "      <th>2</th>\n",
       "      <td>2022-01-03</td>\n",
       "      <td>239.374924</td>\n",
       "      <td>239.459549</td>\n",
       "      <td>223.897690</td>\n",
       "      <td>231.547546</td>\n",
       "      <td>231.547546</td>\n",
       "      <td>181602416</td>\n",
       "    </tr>\n",
       "    <tr>\n",
       "      <th>3</th>\n",
       "      <td>2022-01-04</td>\n",
       "      <td>231.563171</td>\n",
       "      <td>232.964615</td>\n",
       "      <td>221.172180</td>\n",
       "      <td>222.344452</td>\n",
       "      <td>222.344452</td>\n",
       "      <td>158699220</td>\n",
       "    </tr>\n",
       "  </tbody>\n",
       "</table>\n",
       "</div>"
      ],
      "text/plain": [
       "         Date        Open        High         Low       Close   Adj Close  \\\n",
       "0  2022-01-01  228.847839  251.870102  228.768646  250.206177  250.206177   \n",
       "1  2022-01-02  250.174347  250.693329  236.701248  239.371704  239.371704   \n",
       "2  2022-01-03  239.374924  239.459549  223.897690  231.547546  231.547546   \n",
       "3  2022-01-04  231.563171  232.964615  221.172180  222.344452  222.344452   \n",
       "\n",
       "      Volume  \n",
       "0  277123156  \n",
       "1  205086716  \n",
       "2  181602416  \n",
       "3  158699220  "
      ]
     },
     "execution_count": 463,
     "metadata": {},
     "output_type": "execute_result"
    }
   ],
   "source": [
    "XMR.head(4)"
   ]
  },
  {
   "cell_type": "code",
   "execution_count": 464,
   "id": "8ebaad02",
   "metadata": {},
   "outputs": [],
   "source": [
    "XMR_P = XMR[[metric]]"
   ]
  },
  {
   "cell_type": "code",
   "execution_count": 468,
   "id": "da320f06",
   "metadata": {},
   "outputs": [
    {
     "data": {
      "text/html": [
       "<div>\n",
       "<style scoped>\n",
       "    .dataframe tbody tr th:only-of-type {\n",
       "        vertical-align: middle;\n",
       "    }\n",
       "\n",
       "    .dataframe tbody tr th {\n",
       "        vertical-align: top;\n",
       "    }\n",
       "\n",
       "    .dataframe thead th {\n",
       "        text-align: right;\n",
       "    }\n",
       "</style>\n",
       "<table border=\"1\" class=\"dataframe\">\n",
       "  <thead>\n",
       "    <tr style=\"text-align: right;\">\n",
       "      <th></th>\n",
       "      <th>Close</th>\n",
       "    </tr>\n",
       "  </thead>\n",
       "  <tbody>\n",
       "    <tr>\n",
       "      <th>0</th>\n",
       "      <td>250.206177</td>\n",
       "    </tr>\n",
       "    <tr>\n",
       "      <th>1</th>\n",
       "      <td>239.371704</td>\n",
       "    </tr>\n",
       "    <tr>\n",
       "      <th>2</th>\n",
       "      <td>231.547546</td>\n",
       "    </tr>\n",
       "    <tr>\n",
       "      <th>3</th>\n",
       "      <td>222.344452</td>\n",
       "    </tr>\n",
       "  </tbody>\n",
       "</table>\n",
       "</div>"
      ],
      "text/plain": [
       "        Close\n",
       "0  250.206177\n",
       "1  239.371704\n",
       "2  231.547546\n",
       "3  222.344452"
      ]
     },
     "execution_count": 468,
     "metadata": {},
     "output_type": "execute_result"
    }
   ],
   "source": [
    "XMR_P.head(4)"
   ]
  },
  {
   "cell_type": "code",
   "execution_count": 469,
   "id": "b8035e36",
   "metadata": {},
   "outputs": [],
   "source": [
    "DASH = pd.read_csv('DASH-USD.csv', parse_dates = True) "
   ]
  },
  {
   "cell_type": "code",
   "execution_count": 470,
   "id": "e1c346d6",
   "metadata": {},
   "outputs": [
    {
     "data": {
      "text/html": [
       "<div>\n",
       "<style scoped>\n",
       "    .dataframe tbody tr th:only-of-type {\n",
       "        vertical-align: middle;\n",
       "    }\n",
       "\n",
       "    .dataframe tbody tr th {\n",
       "        vertical-align: top;\n",
       "    }\n",
       "\n",
       "    .dataframe thead th {\n",
       "        text-align: right;\n",
       "    }\n",
       "</style>\n",
       "<table border=\"1\" class=\"dataframe\">\n",
       "  <thead>\n",
       "    <tr style=\"text-align: right;\">\n",
       "      <th></th>\n",
       "      <th>Date</th>\n",
       "      <th>Open</th>\n",
       "      <th>High</th>\n",
       "      <th>Low</th>\n",
       "      <th>Close</th>\n",
       "      <th>Adj Close</th>\n",
       "      <th>Volume</th>\n",
       "    </tr>\n",
       "  </thead>\n",
       "  <tbody>\n",
       "    <tr>\n",
       "      <th>0</th>\n",
       "      <td>2022-01-01</td>\n",
       "      <td>134.019608</td>\n",
       "      <td>139.174072</td>\n",
       "      <td>133.885742</td>\n",
       "      <td>137.953934</td>\n",
       "      <td>137.953934</td>\n",
       "      <td>164278057</td>\n",
       "    </tr>\n",
       "    <tr>\n",
       "      <th>1</th>\n",
       "      <td>2022-01-02</td>\n",
       "      <td>137.939163</td>\n",
       "      <td>142.914307</td>\n",
       "      <td>136.818054</td>\n",
       "      <td>142.062637</td>\n",
       "      <td>142.062637</td>\n",
       "      <td>165015795</td>\n",
       "    </tr>\n",
       "    <tr>\n",
       "      <th>2</th>\n",
       "      <td>2022-01-03</td>\n",
       "      <td>142.067490</td>\n",
       "      <td>142.630569</td>\n",
       "      <td>136.971497</td>\n",
       "      <td>139.255753</td>\n",
       "      <td>139.255753</td>\n",
       "      <td>171903823</td>\n",
       "    </tr>\n",
       "    <tr>\n",
       "      <th>3</th>\n",
       "      <td>2022-01-04</td>\n",
       "      <td>139.244415</td>\n",
       "      <td>139.570587</td>\n",
       "      <td>134.447067</td>\n",
       "      <td>134.846954</td>\n",
       "      <td>134.846954</td>\n",
       "      <td>192819379</td>\n",
       "    </tr>\n",
       "  </tbody>\n",
       "</table>\n",
       "</div>"
      ],
      "text/plain": [
       "         Date        Open        High         Low       Close   Adj Close  \\\n",
       "0  2022-01-01  134.019608  139.174072  133.885742  137.953934  137.953934   \n",
       "1  2022-01-02  137.939163  142.914307  136.818054  142.062637  142.062637   \n",
       "2  2022-01-03  142.067490  142.630569  136.971497  139.255753  139.255753   \n",
       "3  2022-01-04  139.244415  139.570587  134.447067  134.846954  134.846954   \n",
       "\n",
       "      Volume  \n",
       "0  164278057  \n",
       "1  165015795  \n",
       "2  171903823  \n",
       "3  192819379  "
      ]
     },
     "execution_count": 470,
     "metadata": {},
     "output_type": "execute_result"
    }
   ],
   "source": [
    "DASH.head(4)"
   ]
  },
  {
   "cell_type": "code",
   "execution_count": 471,
   "id": "57e75755",
   "metadata": {},
   "outputs": [],
   "source": [
    "DASH_P = DASH[[metric]]"
   ]
  },
  {
   "cell_type": "code",
   "execution_count": 472,
   "id": "be75f839",
   "metadata": {},
   "outputs": [
    {
     "data": {
      "text/html": [
       "<div>\n",
       "<style scoped>\n",
       "    .dataframe tbody tr th:only-of-type {\n",
       "        vertical-align: middle;\n",
       "    }\n",
       "\n",
       "    .dataframe tbody tr th {\n",
       "        vertical-align: top;\n",
       "    }\n",
       "\n",
       "    .dataframe thead th {\n",
       "        text-align: right;\n",
       "    }\n",
       "</style>\n",
       "<table border=\"1\" class=\"dataframe\">\n",
       "  <thead>\n",
       "    <tr style=\"text-align: right;\">\n",
       "      <th></th>\n",
       "      <th>Close</th>\n",
       "    </tr>\n",
       "  </thead>\n",
       "  <tbody>\n",
       "    <tr>\n",
       "      <th>0</th>\n",
       "      <td>137.953934</td>\n",
       "    </tr>\n",
       "    <tr>\n",
       "      <th>1</th>\n",
       "      <td>142.062637</td>\n",
       "    </tr>\n",
       "    <tr>\n",
       "      <th>2</th>\n",
       "      <td>139.255753</td>\n",
       "    </tr>\n",
       "    <tr>\n",
       "      <th>3</th>\n",
       "      <td>134.846954</td>\n",
       "    </tr>\n",
       "  </tbody>\n",
       "</table>\n",
       "</div>"
      ],
      "text/plain": [
       "        Close\n",
       "0  137.953934\n",
       "1  142.062637\n",
       "2  139.255753\n",
       "3  134.846954"
      ]
     },
     "execution_count": 472,
     "metadata": {},
     "output_type": "execute_result"
    }
   ],
   "source": [
    "DASH_P.head(4)"
   ]
  },
  {
   "cell_type": "code",
   "execution_count": 473,
   "id": "57a1797f",
   "metadata": {},
   "outputs": [],
   "source": [
    "LTC = pd.read_csv('LTC-USD.csv', parse_dates = True) "
   ]
  },
  {
   "cell_type": "code",
   "execution_count": 474,
   "id": "95a7c9ce",
   "metadata": {},
   "outputs": [
    {
     "data": {
      "text/html": [
       "<div>\n",
       "<style scoped>\n",
       "    .dataframe tbody tr th:only-of-type {\n",
       "        vertical-align: middle;\n",
       "    }\n",
       "\n",
       "    .dataframe tbody tr th {\n",
       "        vertical-align: top;\n",
       "    }\n",
       "\n",
       "    .dataframe thead th {\n",
       "        text-align: right;\n",
       "    }\n",
       "</style>\n",
       "<table border=\"1\" class=\"dataframe\">\n",
       "  <thead>\n",
       "    <tr style=\"text-align: right;\">\n",
       "      <th></th>\n",
       "      <th>Date</th>\n",
       "      <th>Open</th>\n",
       "      <th>High</th>\n",
       "      <th>Low</th>\n",
       "      <th>Close</th>\n",
       "      <th>Adj Close</th>\n",
       "      <th>Volume</th>\n",
       "    </tr>\n",
       "  </thead>\n",
       "  <tbody>\n",
       "    <tr>\n",
       "      <th>0</th>\n",
       "      <td>2022-01-01</td>\n",
       "      <td>146.536865</td>\n",
       "      <td>150.751999</td>\n",
       "      <td>146.456940</td>\n",
       "      <td>150.697433</td>\n",
       "      <td>150.697433</td>\n",
       "      <td>691648227</td>\n",
       "    </tr>\n",
       "    <tr>\n",
       "      <th>1</th>\n",
       "      <td>2022-01-02</td>\n",
       "      <td>150.685303</td>\n",
       "      <td>152.936035</td>\n",
       "      <td>148.663101</td>\n",
       "      <td>151.255493</td>\n",
       "      <td>151.255493</td>\n",
       "      <td>680239631</td>\n",
       "    </tr>\n",
       "    <tr>\n",
       "      <th>2</th>\n",
       "      <td>2022-01-03</td>\n",
       "      <td>151.263397</td>\n",
       "      <td>151.263397</td>\n",
       "      <td>146.674194</td>\n",
       "      <td>148.461594</td>\n",
       "      <td>148.461594</td>\n",
       "      <td>755658603</td>\n",
       "    </tr>\n",
       "    <tr>\n",
       "      <th>3</th>\n",
       "      <td>2022-01-04</td>\n",
       "      <td>148.467773</td>\n",
       "      <td>151.332062</td>\n",
       "      <td>146.563065</td>\n",
       "      <td>146.812286</td>\n",
       "      <td>146.812286</td>\n",
       "      <td>789511706</td>\n",
       "    </tr>\n",
       "  </tbody>\n",
       "</table>\n",
       "</div>"
      ],
      "text/plain": [
       "         Date        Open        High         Low       Close   Adj Close  \\\n",
       "0  2022-01-01  146.536865  150.751999  146.456940  150.697433  150.697433   \n",
       "1  2022-01-02  150.685303  152.936035  148.663101  151.255493  151.255493   \n",
       "2  2022-01-03  151.263397  151.263397  146.674194  148.461594  148.461594   \n",
       "3  2022-01-04  148.467773  151.332062  146.563065  146.812286  146.812286   \n",
       "\n",
       "      Volume  \n",
       "0  691648227  \n",
       "1  680239631  \n",
       "2  755658603  \n",
       "3  789511706  "
      ]
     },
     "execution_count": 474,
     "metadata": {},
     "output_type": "execute_result"
    }
   ],
   "source": [
    "LTC.head(4)"
   ]
  },
  {
   "cell_type": "code",
   "execution_count": 475,
   "id": "271045d2",
   "metadata": {},
   "outputs": [],
   "source": [
    "LTC_P = LTC[[metric]]"
   ]
  },
  {
   "cell_type": "code",
   "execution_count": 476,
   "id": "9842c0e4",
   "metadata": {},
   "outputs": [
    {
     "data": {
      "text/html": [
       "<div>\n",
       "<style scoped>\n",
       "    .dataframe tbody tr th:only-of-type {\n",
       "        vertical-align: middle;\n",
       "    }\n",
       "\n",
       "    .dataframe tbody tr th {\n",
       "        vertical-align: top;\n",
       "    }\n",
       "\n",
       "    .dataframe thead th {\n",
       "        text-align: right;\n",
       "    }\n",
       "</style>\n",
       "<table border=\"1\" class=\"dataframe\">\n",
       "  <thead>\n",
       "    <tr style=\"text-align: right;\">\n",
       "      <th></th>\n",
       "      <th>Close</th>\n",
       "    </tr>\n",
       "  </thead>\n",
       "  <tbody>\n",
       "    <tr>\n",
       "      <th>0</th>\n",
       "      <td>150.697433</td>\n",
       "    </tr>\n",
       "    <tr>\n",
       "      <th>1</th>\n",
       "      <td>151.255493</td>\n",
       "    </tr>\n",
       "    <tr>\n",
       "      <th>2</th>\n",
       "      <td>148.461594</td>\n",
       "    </tr>\n",
       "    <tr>\n",
       "      <th>3</th>\n",
       "      <td>146.812286</td>\n",
       "    </tr>\n",
       "  </tbody>\n",
       "</table>\n",
       "</div>"
      ],
      "text/plain": [
       "        Close\n",
       "0  150.697433\n",
       "1  151.255493\n",
       "2  148.461594\n",
       "3  146.812286"
      ]
     },
     "execution_count": 476,
     "metadata": {},
     "output_type": "execute_result"
    }
   ],
   "source": [
    "LTC_P.head(4)"
   ]
  },
  {
   "cell_type": "markdown",
   "id": "60807a2e",
   "metadata": {},
   "source": [
    "### Concatinating all the Close price columns into a new dataframe"
   ]
  },
  {
   "cell_type": "code",
   "execution_count": 477,
   "id": "f09ad561",
   "metadata": {},
   "outputs": [],
   "source": [
    "new_df = pd.concat([Date, BTC_P, ETH_P, XMR_P, DASH_P, LTC_P], axis=1)   # axis = 1 means adding a colum"
   ]
  },
  {
   "cell_type": "code",
   "execution_count": 478,
   "id": "8b4753e5",
   "metadata": {
    "scrolled": true
   },
   "outputs": [
    {
     "data": {
      "text/html": [
       "<div>\n",
       "<style scoped>\n",
       "    .dataframe tbody tr th:only-of-type {\n",
       "        vertical-align: middle;\n",
       "    }\n",
       "\n",
       "    .dataframe tbody tr th {\n",
       "        vertical-align: top;\n",
       "    }\n",
       "\n",
       "    .dataframe thead th {\n",
       "        text-align: right;\n",
       "    }\n",
       "</style>\n",
       "<table border=\"1\" class=\"dataframe\">\n",
       "  <thead>\n",
       "    <tr style=\"text-align: right;\">\n",
       "      <th></th>\n",
       "      <th>Date</th>\n",
       "      <th>Close</th>\n",
       "      <th>Close</th>\n",
       "      <th>Close</th>\n",
       "      <th>Close</th>\n",
       "      <th>Close</th>\n",
       "    </tr>\n",
       "  </thead>\n",
       "  <tbody>\n",
       "    <tr>\n",
       "      <th>0</th>\n",
       "      <td>2022-01-01</td>\n",
       "      <td>47686.812500</td>\n",
       "      <td>3769.697021</td>\n",
       "      <td>250.206177</td>\n",
       "      <td>137.953934</td>\n",
       "      <td>150.697433</td>\n",
       "    </tr>\n",
       "    <tr>\n",
       "      <th>1</th>\n",
       "      <td>2022-01-02</td>\n",
       "      <td>47345.218750</td>\n",
       "      <td>3829.564941</td>\n",
       "      <td>239.371704</td>\n",
       "      <td>142.062637</td>\n",
       "      <td>151.255493</td>\n",
       "    </tr>\n",
       "    <tr>\n",
       "      <th>2</th>\n",
       "      <td>2022-01-03</td>\n",
       "      <td>46458.117188</td>\n",
       "      <td>3761.380371</td>\n",
       "      <td>231.547546</td>\n",
       "      <td>139.255753</td>\n",
       "      <td>148.461594</td>\n",
       "    </tr>\n",
       "    <tr>\n",
       "      <th>3</th>\n",
       "      <td>2022-01-04</td>\n",
       "      <td>45897.574219</td>\n",
       "      <td>3794.056641</td>\n",
       "      <td>222.344452</td>\n",
       "      <td>134.846954</td>\n",
       "      <td>146.812286</td>\n",
       "    </tr>\n",
       "  </tbody>\n",
       "</table>\n",
       "</div>"
      ],
      "text/plain": [
       "         Date         Close        Close       Close       Close       Close\n",
       "0  2022-01-01  47686.812500  3769.697021  250.206177  137.953934  150.697433\n",
       "1  2022-01-02  47345.218750  3829.564941  239.371704  142.062637  151.255493\n",
       "2  2022-01-03  46458.117188  3761.380371  231.547546  139.255753  148.461594\n",
       "3  2022-01-04  45897.574219  3794.056641  222.344452  134.846954  146.812286"
      ]
     },
     "execution_count": 478,
     "metadata": {},
     "output_type": "execute_result"
    }
   ],
   "source": [
    "new_df.head(4)"
   ]
  },
  {
   "cell_type": "code",
   "execution_count": 479,
   "id": "e6ec8018",
   "metadata": {},
   "outputs": [
    {
     "data": {
      "text/plain": [
       "Index(['Date', 'Close', 'Close', 'Close', 'Close', 'Close'], dtype='object')"
      ]
     },
     "execution_count": 479,
     "metadata": {},
     "output_type": "execute_result"
    }
   ],
   "source": [
    "new_df.columns"
   ]
  },
  {
   "cell_type": "markdown",
   "id": "db1c3371",
   "metadata": {},
   "source": [
    "### Giving the headers to the dataframe"
   ]
  },
  {
   "cell_type": "code",
   "execution_count": 480,
   "id": "6317b84a",
   "metadata": {},
   "outputs": [],
   "source": [
    "headers = [\"Date\", \"BTC\", \"ETH\", \"XMR\", \"DASH\", \"LTC\"]"
   ]
  },
  {
   "cell_type": "code",
   "execution_count": 481,
   "id": "71ceb6db",
   "metadata": {},
   "outputs": [],
   "source": [
    "new_df.columns = headers"
   ]
  },
  {
   "cell_type": "code",
   "execution_count": 482,
   "id": "a0e0c762",
   "metadata": {},
   "outputs": [
    {
     "data": {
      "text/plain": [
       "Index(['Date', 'BTC', 'ETH', 'XMR', 'DASH', 'LTC'], dtype='object')"
      ]
     },
     "execution_count": 482,
     "metadata": {},
     "output_type": "execute_result"
    }
   ],
   "source": [
    "new_df.columns"
   ]
  },
  {
   "cell_type": "markdown",
   "id": "0e3352d6",
   "metadata": {},
   "source": [
    "### Making Date column as index"
   ]
  },
  {
   "cell_type": "code",
   "execution_count": 483,
   "id": "40c4a947",
   "metadata": {},
   "outputs": [
    {
     "data": {
      "text/html": [
       "<div>\n",
       "<style scoped>\n",
       "    .dataframe tbody tr th:only-of-type {\n",
       "        vertical-align: middle;\n",
       "    }\n",
       "\n",
       "    .dataframe tbody tr th {\n",
       "        vertical-align: top;\n",
       "    }\n",
       "\n",
       "    .dataframe thead th {\n",
       "        text-align: right;\n",
       "    }\n",
       "</style>\n",
       "<table border=\"1\" class=\"dataframe\">\n",
       "  <thead>\n",
       "    <tr style=\"text-align: right;\">\n",
       "      <th></th>\n",
       "      <th>BTC</th>\n",
       "      <th>ETH</th>\n",
       "      <th>XMR</th>\n",
       "      <th>DASH</th>\n",
       "      <th>LTC</th>\n",
       "    </tr>\n",
       "    <tr>\n",
       "      <th>Date</th>\n",
       "      <th></th>\n",
       "      <th></th>\n",
       "      <th></th>\n",
       "      <th></th>\n",
       "      <th></th>\n",
       "    </tr>\n",
       "  </thead>\n",
       "  <tbody>\n",
       "    <tr>\n",
       "      <th>2022-01-01</th>\n",
       "      <td>47686.812500</td>\n",
       "      <td>3769.697021</td>\n",
       "      <td>250.206177</td>\n",
       "      <td>137.953934</td>\n",
       "      <td>150.697433</td>\n",
       "    </tr>\n",
       "    <tr>\n",
       "      <th>2022-01-02</th>\n",
       "      <td>47345.218750</td>\n",
       "      <td>3829.564941</td>\n",
       "      <td>239.371704</td>\n",
       "      <td>142.062637</td>\n",
       "      <td>151.255493</td>\n",
       "    </tr>\n",
       "    <tr>\n",
       "      <th>2022-01-03</th>\n",
       "      <td>46458.117188</td>\n",
       "      <td>3761.380371</td>\n",
       "      <td>231.547546</td>\n",
       "      <td>139.255753</td>\n",
       "      <td>148.461594</td>\n",
       "    </tr>\n",
       "    <tr>\n",
       "      <th>2022-01-04</th>\n",
       "      <td>45897.574219</td>\n",
       "      <td>3794.056641</td>\n",
       "      <td>222.344452</td>\n",
       "      <td>134.846954</td>\n",
       "      <td>146.812286</td>\n",
       "    </tr>\n",
       "  </tbody>\n",
       "</table>\n",
       "</div>"
      ],
      "text/plain": [
       "                     BTC          ETH         XMR        DASH         LTC\n",
       "Date                                                                     \n",
       "2022-01-01  47686.812500  3769.697021  250.206177  137.953934  150.697433\n",
       "2022-01-02  47345.218750  3829.564941  239.371704  142.062637  151.255493\n",
       "2022-01-03  46458.117188  3761.380371  231.547546  139.255753  148.461594\n",
       "2022-01-04  45897.574219  3794.056641  222.344452  134.846954  146.812286"
      ]
     },
     "execution_count": 483,
     "metadata": {},
     "output_type": "execute_result"
    }
   ],
   "source": [
    "new_df = new_df.set_index('Date')\n",
    "new_df.head(4)"
   ]
  },
  {
   "cell_type": "markdown",
   "id": "7f656afc",
   "metadata": {},
   "source": [
    "### Saving the new dataframe into a csv file"
   ]
  },
  {
   "cell_type": "code",
   "execution_count": 484,
   "id": "c5a334cd",
   "metadata": {},
   "outputs": [],
   "source": [
    "new_df.to_csv(\"crypto.csv\")"
   ]
  },
  {
   "cell_type": "markdown",
   "id": "e038fdef",
   "metadata": {},
   "source": [
    "### Reading the csv file "
   ]
  },
  {
   "cell_type": "code",
   "execution_count": 485,
   "id": "c784e6a0",
   "metadata": {},
   "outputs": [
    {
     "data": {
      "text/html": [
       "<div>\n",
       "<style scoped>\n",
       "    .dataframe tbody tr th:only-of-type {\n",
       "        vertical-align: middle;\n",
       "    }\n",
       "\n",
       "    .dataframe tbody tr th {\n",
       "        vertical-align: top;\n",
       "    }\n",
       "\n",
       "    .dataframe thead th {\n",
       "        text-align: right;\n",
       "    }\n",
       "</style>\n",
       "<table border=\"1\" class=\"dataframe\">\n",
       "  <thead>\n",
       "    <tr style=\"text-align: right;\">\n",
       "      <th></th>\n",
       "      <th>BTC</th>\n",
       "      <th>ETH</th>\n",
       "      <th>XMR</th>\n",
       "      <th>DASH</th>\n",
       "      <th>LTC</th>\n",
       "    </tr>\n",
       "    <tr>\n",
       "      <th>Date</th>\n",
       "      <th></th>\n",
       "      <th></th>\n",
       "      <th></th>\n",
       "      <th></th>\n",
       "      <th></th>\n",
       "    </tr>\n",
       "  </thead>\n",
       "  <tbody>\n",
       "    <tr>\n",
       "      <th>2023-01-08</th>\n",
       "      <td>17091.144531</td>\n",
       "      <td>1287.359497</td>\n",
       "      <td>155.648804</td>\n",
       "      <td>47.716839</td>\n",
       "      <td>77.682274</td>\n",
       "    </tr>\n",
       "    <tr>\n",
       "      <th>2023-01-09</th>\n",
       "      <td>17196.554688</td>\n",
       "      <td>1321.538940</td>\n",
       "      <td>158.866623</td>\n",
       "      <td>48.939636</td>\n",
       "      <td>81.747314</td>\n",
       "    </tr>\n",
       "    <tr>\n",
       "      <th>2023-01-10</th>\n",
       "      <td>17446.292969</td>\n",
       "      <td>1336.586060</td>\n",
       "      <td>161.539932</td>\n",
       "      <td>48.366943</td>\n",
       "      <td>80.887520</td>\n",
       "    </tr>\n",
       "    <tr>\n",
       "      <th>2023-01-11</th>\n",
       "      <td>17392.007812</td>\n",
       "      <td>1330.932495</td>\n",
       "      <td>160.694321</td>\n",
       "      <td>47.105007</td>\n",
       "      <td>81.315178</td>\n",
       "    </tr>\n",
       "  </tbody>\n",
       "</table>\n",
       "</div>"
      ],
      "text/plain": [
       "                     BTC          ETH         XMR       DASH        LTC\n",
       "Date                                                                   \n",
       "2023-01-08  17091.144531  1287.359497  155.648804  47.716839  77.682274\n",
       "2023-01-09  17196.554688  1321.538940  158.866623  48.939636  81.747314\n",
       "2023-01-10  17446.292969  1336.586060  161.539932  48.366943  80.887520\n",
       "2023-01-11  17392.007812  1330.932495  160.694321  47.105007  81.315178"
      ]
     },
     "execution_count": 485,
     "metadata": {},
     "output_type": "execute_result"
    }
   ],
   "source": [
    "new_data = pd.read_csv(\"crypto.csv\", parse_dates=['Date'])\n",
    "new_data = new_data.set_index('Date')\n",
    "new_data.tail(4)"
   ]
  },
  {
   "cell_type": "markdown",
   "id": "7a8282a4",
   "metadata": {},
   "source": [
    "### Converting the data frame from daily to weekly dates"
   ]
  },
  {
   "cell_type": "code",
   "execution_count": 486,
   "id": "d3da31d6",
   "metadata": {},
   "outputs": [],
   "source": [
    "#Changing the date index into weekly basis so make plot will be more readable\n",
    "dfn = new_data.resample('W').mean()"
   ]
  },
  {
   "cell_type": "code",
   "execution_count": 487,
   "id": "c17ae3ac",
   "metadata": {},
   "outputs": [
    {
     "data": {
      "text/html": [
       "<div>\n",
       "<style scoped>\n",
       "    .dataframe tbody tr th:only-of-type {\n",
       "        vertical-align: middle;\n",
       "    }\n",
       "\n",
       "    .dataframe tbody tr th {\n",
       "        vertical-align: top;\n",
       "    }\n",
       "\n",
       "    .dataframe thead th {\n",
       "        text-align: right;\n",
       "    }\n",
       "</style>\n",
       "<table border=\"1\" class=\"dataframe\">\n",
       "  <thead>\n",
       "    <tr style=\"text-align: right;\">\n",
       "      <th></th>\n",
       "      <th>BTC</th>\n",
       "      <th>ETH</th>\n",
       "      <th>XMR</th>\n",
       "      <th>DASH</th>\n",
       "      <th>LTC</th>\n",
       "    </tr>\n",
       "    <tr>\n",
       "      <th>Date</th>\n",
       "      <th></th>\n",
       "      <th></th>\n",
       "      <th></th>\n",
       "      <th></th>\n",
       "      <th></th>\n",
       "    </tr>\n",
       "  </thead>\n",
       "  <tbody>\n",
       "    <tr>\n",
       "      <th>2022-01-02</th>\n",
       "      <td>47516.015625</td>\n",
       "      <td>3799.630981</td>\n",
       "      <td>244.788940</td>\n",
       "      <td>140.008286</td>\n",
       "      <td>150.976463</td>\n",
       "    </tr>\n",
       "    <tr>\n",
       "      <th>2022-01-09</th>\n",
       "      <td>43469.867188</td>\n",
       "      <td>3423.880964</td>\n",
       "      <td>204.957384</td>\n",
       "      <td>135.922446</td>\n",
       "      <td>137.255862</td>\n",
       "    </tr>\n",
       "    <tr>\n",
       "      <th>2022-01-16</th>\n",
       "      <td>42926.966518</td>\n",
       "      <td>3276.172921</td>\n",
       "      <td>209.813191</td>\n",
       "      <td>142.214155</td>\n",
       "      <td>139.421150</td>\n",
       "    </tr>\n",
       "    <tr>\n",
       "      <th>2022-01-23</th>\n",
       "      <td>39259.328683</td>\n",
       "      <td>2853.061140</td>\n",
       "      <td>184.273928</td>\n",
       "      <td>116.791303</td>\n",
       "      <td>127.964230</td>\n",
       "    </tr>\n",
       "  </tbody>\n",
       "</table>\n",
       "</div>"
      ],
      "text/plain": [
       "                     BTC          ETH         XMR        DASH         LTC\n",
       "Date                                                                     \n",
       "2022-01-02  47516.015625  3799.630981  244.788940  140.008286  150.976463\n",
       "2022-01-09  43469.867188  3423.880964  204.957384  135.922446  137.255862\n",
       "2022-01-16  42926.966518  3276.172921  209.813191  142.214155  139.421150\n",
       "2022-01-23  39259.328683  2853.061140  184.273928  116.791303  127.964230"
      ]
     },
     "execution_count": 487,
     "metadata": {},
     "output_type": "execute_result"
    }
   ],
   "source": [
    "dfn.head(4)"
   ]
  },
  {
   "cell_type": "markdown",
   "id": "67b472c6",
   "metadata": {},
   "source": [
    "### Checking the data description"
   ]
  },
  {
   "cell_type": "code",
   "execution_count": 488,
   "id": "c1247e7c",
   "metadata": {},
   "outputs": [
    {
     "name": "stdout",
     "output_type": "stream",
     "text": [
      "<class 'pandas.core.frame.DataFrame'>\n",
      "DatetimeIndex: 55 entries, 2022-01-02 to 2023-01-15\n",
      "Freq: W-SUN\n",
      "Data columns (total 5 columns):\n",
      " #   Column  Non-Null Count  Dtype  \n",
      "---  ------  --------------  -----  \n",
      " 0   BTC     55 non-null     float64\n",
      " 1   ETH     55 non-null     float64\n",
      " 2   XMR     55 non-null     float64\n",
      " 3   DASH    55 non-null     float64\n",
      " 4   LTC     55 non-null     float64\n",
      "dtypes: float64(5)\n",
      "memory usage: 2.6 KB\n"
     ]
    }
   ],
   "source": [
    "dfn.info()"
   ]
  },
  {
   "cell_type": "markdown",
   "id": "17ababd4",
   "metadata": {},
   "source": [
    "### Checking for null values"
   ]
  },
  {
   "cell_type": "code",
   "execution_count": 489,
   "id": "4822ed01",
   "metadata": {},
   "outputs": [
    {
     "data": {
      "text/plain": [
       "BTC    ETH    XMR    DASH   LTC  \n",
       "False  False  False  False  False    55\n",
       "dtype: int64"
      ]
     },
     "execution_count": 489,
     "metadata": {},
     "output_type": "execute_result"
    }
   ],
   "source": [
    "dfn.isnull().value_counts()"
   ]
  },
  {
   "cell_type": "markdown",
   "id": "ae2fedd6",
   "metadata": {},
   "source": [
    "### Ploting the cryptocurrency prices vs dates"
   ]
  },
  {
   "cell_type": "code",
   "execution_count": 492,
   "id": "0525ef0a",
   "metadata": {},
   "outputs": [
    {
     "data": {
      "image/png": "[encoded data removed]",
      "text/plain": [
       "<Figure size 432x288 with 1 Axes>"
      ]
     },
     "metadata": {
      "needs_background": "light"
     },
     "output_type": "display_data"
    }
   ],
   "source": [
    "plt.yscale('log')\n",
    "for coin in coins:\n",
    "    plt.plot(dfn[coin], label=coin)\n",
    "plt.legend(loc='upper right')\n",
    "plt.title(\"Logrithmic cryptocurrency vs Date plot\")\n",
    "plt.xlabel(\"Date\")\n",
    "plt.ylabel(\"cryptocurrency_log\")\n",
    "#Saving the plot\n",
    "plt.savefig ('crypto_plot.jpg')\n",
    "#Displaying the plot\n",
    "plt.show()"
   ]
  },
  {
   "cell_type": "code",
   "execution_count": null,
   "id": "6a5bfc2c",
   "metadata": {},
   "outputs": [],
   "source": []
  }
 ],
 "metadata": {
  "kernelspec": {
   "display_name": "Python 3 (ipykernel)",
   "language": "python",
   "name": "python3"
  },
  "language_info": {
   "codemirror_mode": {
    "name": "ipython",
    "version": 3
   },
   "file_extension": ".py",
   "mimetype": "text/x-python",
   "name": "python",
   "nbconvert_exporter": "python",
   "pygments_lexer": "ipython3",
   "version": "3.9.12"
  }
 },
 "nbformat": 4,
 "nbformat_minor": 5
}
